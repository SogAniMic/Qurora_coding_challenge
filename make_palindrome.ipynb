{
 "cells": [
  {
   "cell_type": "markdown",
   "id": "8ddcb1f9",
   "metadata": {},
   "source": [
    "# Given a string, find the palindrome that can be made by inserting the fewest number of characters as possible anywhere in the word. If there is more than one palindrome of minimum length that can be made, return the lexicographically earliest one (the first one alphabetically).\n",
    "\n",
    "For example, given the string \"race\", you should return \"ecarace\", since we can add three letters to it (which is the smallest amount to make a palindrome). There are seven other palindromes that can be made from \"race\" by adding three letters, but \"ecarace\" comes first alphabetically.\n",
    "\n",
    "As another example, given the string \"google\", you should return \"elgoogle\"."
   ]
  },
  {
   "cell_type": "code",
   "execution_count": null,
   "id": "eb1abced",
   "metadata": {},
   "outputs": [],
   "source": [
    "def make_palindrome(s):\n",
    "    if len(s) <= 1:\n",
    "        return s\n",
    "    table = [['' for i in range(len(s) + 1)] for j in range(len(s) + 1)]\n",
    "\n",
    "    for i in range(len(s)):\n",
    "        table[i][1] = s[i]\n",
    "\n",
    "    for j in range(2, len(s) + 1):\n",
    "        for i in range(len(s) - j + 1):\n",
    "            term = s[i:i + j]\n",
    "            first, last = term[0], term[-1]\n",
    "            if first == last:\n",
    "                table[i][j] = first + table[i + 1][j - 2] + last\n",
    "            else:\n",
    "                one = first + table[i + 1][j - 1] + first\n",
    "                two = last + table[i][j - 1] + last\n",
    "                if len(one) < len(two):\n",
    "                    table[i][j] = one\n",
    "                elif len(one) > len(two):\n",
    "                    table[i][j] = two\n",
    "                else:\n",
    "                    table[i][j] = min(one, two)\n",
    "\n",
    "    return table[0][-1]"
   ]
  }
 ],
 "metadata": {
  "kernelspec": {
   "display_name": "Python 3 (ipykernel)",
   "language": "python",
   "name": "python3"
  },
  "language_info": {
   "codemirror_mode": {
    "name": "ipython",
    "version": 3
   },
   "file_extension": ".py",
   "mimetype": "text/x-python",
   "name": "python",
   "nbconvert_exporter": "python",
   "pygments_lexer": "ipython3",
   "version": "3.9.13"
  }
 },
 "nbformat": 4,
 "nbformat_minor": 5
}
